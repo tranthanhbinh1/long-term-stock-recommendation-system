{
 "cells": [
  {
   "cell_type": "code",
   "execution_count": null,
   "metadata": {},
   "outputs": [],
   "source": [
    "import os\n",
    "import pandas as pd\n",
    "from utils.files_transformer import files_concater\n",
    "\n",
    "\n",
    "balancesheet_columns_to_process = [\n",
    "    \"Quarter\",\n",
    "    \"Ticker\",\n",
    "    \"TOTAL ASSETS\",\n",
    "    \"CURRENT ASSETS\",\n",
    "    \"Cash and cash equivalents\",\n",
    "    \"Short-term investments\",\n",
    "    \"Accounts receivable\",\n",
    "    \"Inventories\",\n",
    "    \"Other current assets\",\n",
    "    \"LONG-TERM ASSETS\",\n",
    "    \"Long-term trade receivables\",\n",
    "    \"Fixed assets\",\n",
    "    \"Investment properties\",\n",
    "    \"Long-term incomplete assets\",\n",
    "    \"Long-term investments\",\n",
    "    \"Other long-term assets\",\n",
    "    \"LIABILITIES\",\n",
    "    \"Current liabilities\",\n",
    "    \"Long-term liabilities\",\n",
    "    \"OWNER'S EQUITY\",\n",
    "    \"Capital and reserves\",\n",
    "    \"Budget sources and other funds\",\n",
    "    \"Bonus and welfare funds (Before 2010)\",\n",
    "    \"Minority Interest\",\n",
    "    \"TOTAL RESOURCES\",\n",
    "]\n",
    "incomestatement_columns_to_process = []\n",
    "cashflow_columns_to_process = []\n",
    "\n",
    "categories = {\n",
    "    \"BalanceSheet\": balancesheet_columns_to_process,\n",
    "    \"IncomeStatement\": incomestatement_columns_to_process,\n",
    "    \"CashFlow\": cashflow_columns_to_process,\n",
    "}\n",
    "directory = \"financial_statements/grouped_records/0570\"\n",
    "\n",
    "for category in categories:\n",
    "    prefix = category\n",
    "\n",
    "    data = files_concater(directory=directory, prefix=prefix)\n",
    "\n",
    "    data_processed = data[balancesheet_columns_to_process]\n",
    "    data_processed.head()\n",
    "    \n",
    "    # Get the column names\n",
    "    cols = pd.Series(data_processed.columns)\n",
    "\n",
    "    # Find any duplicate column names\n",
    "    for dup in cols[cols.duplicated()].unique(): \n",
    "        cols[cols[cols == dup].index.values.tolist()] = [dup + '_' + str(i) if i != 0 else dup for i in range(sum(cols == dup))]\n",
    "\n",
    "    # Rename the columns with the new names\n",
    "    data_processed.columns = cols\n"
   ]
  },
  {
   "cell_type": "code",
   "execution_count": null,
   "metadata": {},
   "outputs": [],
   "source": [
    "all_data_processed.drop(\"Income from investments in other entities\", axis=1, inplace=True)"
   ]
  },
  {
   "cell_type": "code",
   "execution_count": null,
   "metadata": {},
   "outputs": [],
   "source": [
    "# Financial Income 1 need to be changed to: Financial Expense\n",
    "all_data_processed = all_data_processed.rename(columns={\"Financial income_1\": \"Financial expense\"})"
   ]
  },
  {
   "cell_type": "code",
   "execution_count": null,
   "metadata": {},
   "outputs": [],
   "source": [
    "all_data_processed = all_data_processed.drop(\"Short-term investments_1\", axis=1)"
   ]
  }
 ],
 "metadata": {
  "kernelspec": {
   "display_name": "stocks",
   "language": "python",
   "name": "python3"
  },
  "language_info": {
   "name": "python",
   "version": "3.12.0"
  },
  "orig_nbformat": 4
 },
 "nbformat": 4,
 "nbformat_minor": 2
}
