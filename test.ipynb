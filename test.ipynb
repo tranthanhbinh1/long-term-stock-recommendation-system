{
 "cells": [
  {
   "cell_type": "code",
   "execution_count": 1,
   "metadata": {},
   "outputs": [],
   "source": [
    "import pandas as pd\n",
    "import io\n",
    "import requests"
   ]
  },
  {
   "cell_type": "code",
   "execution_count": 2,
   "metadata": {},
   "outputs": [
    {
     "data": {
      "text/plain": [
       "161"
      ]
     },
     "execution_count": 2,
     "metadata": {},
     "output_type": "execute_result"
    }
   ],
   "source": [
    "organ_code = \"SSI\"\n",
    "statement_type = \"BalanceSheet\"\n",
    "page = 0\n",
    "\n",
    "url = f\"https://fiin-fundamental.ssi.com.vn/FinancialStatement/Download{statement_type}?language=en&OrganCode={organ_code}&Skip={page}&Frequency=Quarterly\"\n",
    "\n",
    "headers = {\n",
    "'authority': 'fiin-fundamental.ssi.com.vn',\n",
    "'accept': '*/*',\n",
    "'accept-language': 'en-US,en;q=0.9,vi;q=0.8',\n",
    "'access-control-request-headers': 'content-type,x-fiin-key,x-fiin-seed,x-fiin-user-id',\n",
    "'access-control-request-method': 'GET',\n",
    "'origin': 'https://iboard.ssi.com.vn',\n",
    "'referer': 'https://iboard.ssi.com.vn/',\n",
    "'sec-fetch-dest': 'empty',\n",
    "'sec-fetch-mode': 'cors',\n",
    "'sec-fetch-site': 'same-site',\n",
    "'user-agent': 'Mozilla/5.0 (Windows NT 10.0; Win64; x64) AppleWebKit/537.36 (KHTML, like Gecko) Chrome/116.0.0.0 Safari/537.36 Edg/116.0.1938.76',\n",
    "'Cookie': '__cf_bm=DTCnVdL.ZYR5Qb68BHPnX_vbWURBrOKVBPNboZGMkwQ-1694345120-0-AXeE6idhxc1Z0SHIK7m50wA6Nc13DQfj+gW62Oi5omSL7qpP1NWjh5cmjnVCpO4FDK/DWbsOeSIt1/TQ3BRWCEI='\n",
    "}\n",
    "\n",
    "response = requests.request(\"GET\", url, headers=headers)\n",
    "\n",
    "with io.BytesIO(response.content) as buffer:\n",
    "    df = pd.read_excel(buffer, engine=\"openpyxl\")\n",
    "\n",
    "    df = df.dropna()\n",
    "    # Reset and drop Indexes\n",
    "    df = df.reset_index(drop=True)\n",
    "    # Tranpose and reset the index again\n",
    "    df = df.transpose().reset_index(drop=True)\n",
    "    # Set the first row as headers\n",
    "    new_headers = df.iloc[0]\n",
    "    df = df[1:]\n",
    "    df.columns = new_headers\n",
    "    df = df.rename(columns={\"ITEMS\": \"Quarter\"})\n",
    "    \n",
    "    df = df.transpose().reset_index(drop=True)\n",
    "    \n",
    "df.head()\n",
    "len(df)\n",
    "    "
   ]
  },
  {
   "cell_type": "code",
   "execution_count": 2,
   "metadata": {},
   "outputs": [
    {
     "name": "stdout",
     "output_type": "stream",
     "text": [
      "2023-09-12 06:23:17.622867\n",
      "Error:  An error occurred (RequestTimeTooSkewed) when calling the PutObject operation: The difference between the request time and the server's time is too large.\n"
     ]
    },
    {
     "data": {
      "text/plain": [
       "161"
      ]
     },
     "execution_count": 2,
     "metadata": {},
     "output_type": "execute_result"
    }
   ],
   "source": [
    "from utils.get_fin_statement import GetFinancialStatement\n",
    "import datetime\n",
    "\n",
    "print(datetime.datetime.now())\n",
    "fin_statement = GetFinancialStatement(\"SSI\", \"BalanceSheet\")\n",
    "\n",
    "fin_statement.df.head()\n",
    "len(fin_statement.df)\n",
    "\n",
    "# fin_statement.df.to_excel(\"test.xlsx\")"
   ]
  }
 ],
 "metadata": {
  "kernelspec": {
   "display_name": "venv",
   "language": "python",
   "name": "python3"
  },
  "language_info": {
   "codemirror_mode": {
    "name": "ipython",
    "version": 3
   },
   "file_extension": ".py",
   "mimetype": "text/x-python",
   "name": "python",
   "nbconvert_exporter": "python",
   "pygments_lexer": "ipython3",
   "version": "3.10.12"
  },
  "orig_nbformat": 4
 },
 "nbformat": 4,
 "nbformat_minor": 2
}
